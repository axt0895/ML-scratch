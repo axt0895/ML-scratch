{
 "cells": [
  {
   "cell_type": "code",
   "execution_count": 7,
   "id": "62758857",
   "metadata": {},
   "outputs": [
    {
     "name": "stdout",
     "output_type": "stream",
     "text": [
      "Enter the file path of the name: train_regression2_model\n",
      "The mean squared error is 0.3746318944425559\n",
      "The mean absolute error is 0.531669606824088\n"
     ]
    }
   ],
   "source": [
    "# Imports\n",
    "\n",
    "import pickle\n",
    "import numpy as np\n",
    "\n",
    "# Asking user to input the file name\n",
    "file_path = input('Enter the file path of the name: ')\n",
    "\n",
    "\n",
    "# Loading the file\n",
    "with open(file_path, 'rb') as file:\n",
    "    model = pickle.load(file)\n",
    "    \n",
    "# Loading the parameters, and the data\n",
    "parameters = model['parameters']\n",
    "X_test = model['X_test']\n",
    "y_test = model['y_test']\n",
    "\n",
    "# Adding intercept term to the X\n",
    "X_intercept = np.hstack([np.ones((X_test.shape[0], 1)), X_test])\n",
    "\n",
    "# Predicing ther hypthesis with our loaded parameters and X_test that we separated during the split.\n",
    "hypothesis = X_intercept @ parameters\n",
    "\n",
    "# Mean Absolute Error and Mean Squared Error\n",
    "mean_squared_error = np.mean((y_test - hypothesis) ** 2)\n",
    "mean_absolute_error =  np.mean(np.abs(y_test - hypothesis))\n",
    "\n",
    "print(f'The mean squared error is {mean_squared_error}')\n",
    "print(f'The mean absolute error is {mean_absolute_error}')"
   ]
  },
  {
   "cell_type": "code",
   "execution_count": null,
   "id": "181d0893",
   "metadata": {},
   "outputs": [],
   "source": []
  }
 ],
 "metadata": {
  "kernelspec": {
   "display_name": "Python 3 (ipykernel)",
   "language": "python",
   "name": "python3"
  },
  "language_info": {
   "codemirror_mode": {
    "name": "ipython",
    "version": 3
   },
   "file_extension": ".py",
   "mimetype": "text/x-python",
   "name": "python",
   "nbconvert_exporter": "python",
   "pygments_lexer": "ipython3",
   "version": "3.11.4"
  }
 },
 "nbformat": 4,
 "nbformat_minor": 5
}
