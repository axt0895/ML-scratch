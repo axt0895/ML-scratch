{
 "cells": [
  {
   "cell_type": "code",
   "execution_count": 1,
   "id": "0d42ace4",
   "metadata": {},
   "outputs": [
    {
     "name": "stdout",
     "output_type": "stream",
     "text": [
      "Enter the file path of the model: delete\n",
      "The mean squared error is 7280.207175242099\n"
     ]
    }
   ],
   "source": [
    "# Imports\n",
    "\n",
    "import pickle\n",
    "import numpy as np\n",
    "\n",
    "# Asking user to input the file path of the model\n",
    "file_path = input('Enter the file path of the model: ')\n",
    "\n",
    "\n",
    "# Loading the file\n",
    "with open(file_path, 'rb') as file:\n",
    "    model = pickle.load(file)\n",
    "    \n",
    "# Loading the parameters, and the data\n",
    "bias = model['bias']\n",
    "weights = model['weights']\n",
    "X_test = model['X_test']\n",
    "y_test = model['y_test']\n",
    "\n",
    "\n",
    "\n",
    "# Predicing ther hypthesis with our loaded parameters and X_test that we separated during the split.\n",
    "hypothesis = X_test @ weights + bias\n",
    "\n",
    "# Mean Absolute Error and Mean Squared Error\n",
    "mean_squared_error = np.mean(np.sum(hypothesis - y_test) ** 2)\n",
    "\n",
    "print(f'The mean squared error is {mean_squared_error}')"
   ]
  },
  {
   "cell_type": "code",
   "execution_count": null,
   "id": "d8e4f25b",
   "metadata": {},
   "outputs": [],
   "source": []
  }
 ],
 "metadata": {
  "kernelspec": {
   "display_name": "Python 3 (ipykernel)",
   "language": "python",
   "name": "python3"
  },
  "language_info": {
   "codemirror_mode": {
    "name": "ipython",
    "version": 3
   },
   "file_extension": ".py",
   "mimetype": "text/x-python",
   "name": "python",
   "nbconvert_exporter": "python",
   "pygments_lexer": "ipython3",
   "version": "3.11.4"
  }
 },
 "nbformat": 4,
 "nbformat_minor": 5
}
