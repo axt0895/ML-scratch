{
 "cells": [
  {
   "cell_type": "code",
   "execution_count": 2,
   "id": "77934621",
   "metadata": {},
   "outputs": [
    {
     "name": "stdout",
     "output_type": "stream",
     "text": [
      "Enter the file path of the model: train_classifier2_model\n",
      "1.0405715584245878\n"
     ]
    }
   ],
   "source": [
    "# Imports\n",
    "\n",
    "import pickle\n",
    "import numpy as np\n",
    "\n",
    "# Asking user to input the file path of the model\n",
    "file_path = input('Enter the file path of the model: ')\n",
    "\n",
    "\n",
    "# Loading the file\n",
    "with open(file_path, 'rb') as file:\n",
    "    model = pickle.load(file)\n",
    "    \n",
    "# Loading the parameters, and the data\n",
    "parameters = model['parameters']\n",
    "X_test = model['X_test']\n",
    "y_test = model['y_test']\n",
    "\n",
    "# Adding the intercept term to the X\n",
    "X_intercept = np.hstack([np.ones((X_test.shape[0], 1)), X_test])\n",
    "\n",
    "\n",
    "# Loss function for binary class\n",
    "Z = X_intercept @ parameters\n",
    "exp_Z = np.exp(Z - np.max(Z, axis = 1, keepdims = True))\n",
    "hypothesis = exp_Z / np.sum(exp_Z, axis = 1, keepdims = True)\n",
    "\n",
    "y_encoded = np.eye(len(np.unique(y_test)))[y_test]\n",
    "\n",
    "score = -np.sum(y_encoded * np.log(hypothesis+1e-10)) / X_test.shape[0]\n",
    "print(score)"
   ]
  },
  {
   "cell_type": "code",
   "execution_count": null,
   "id": "488952fd",
   "metadata": {},
   "outputs": [],
   "source": []
  }
 ],
 "metadata": {
  "kernelspec": {
   "display_name": "Python 3 (ipykernel)",
   "language": "python",
   "name": "python3"
  },
  "language_info": {
   "codemirror_mode": {
    "name": "ipython",
    "version": 3
   },
   "file_extension": ".py",
   "mimetype": "text/x-python",
   "name": "python",
   "nbconvert_exporter": "python",
   "pygments_lexer": "ipython3",
   "version": "3.11.4"
  }
 },
 "nbformat": 4,
 "nbformat_minor": 5
}
