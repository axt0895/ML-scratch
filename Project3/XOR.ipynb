{
 "cells": [
  {
   "cell_type": "code",
   "execution_count": 150,
   "id": "1ad2c622",
   "metadata": {
    "scrolled": false
   },
   "outputs": [
    {
     "name": "stdout",
     "output_type": "stream",
     "text": [
      "0.7142857142857143\n"
     ]
    }
   ],
   "source": [
    "import numpy as np\n",
    "from Layer import Layer\n",
    "from Linear import Linear\n",
    "from ReLU import ReLU\n",
    "from Sigmoid import Sigmoid\n",
    "from BinaryCrossEntropy import BinaryCrossEntropy\n",
    "from Sequential import Sequential\n",
    "from sklearn.metrics import accuracy_score\n",
    "\n",
    "# Define XOR inputs -- prepend a constant of 1 for bias multiplication\n",
    "X_train = np.array([[0, 0],\n",
    "                    [1, 1],\n",
    "                    [1, 0],\n",
    "                    [0, 1],\n",
    "                    [1, 1], \n",
    "                    [1, 0],\n",
    "                    [1, 0],\n",
    "                    [1, 1]])\n",
    "y_train = np.array([0, 0, 1, 1, 0, 1, 1, 0]).reshape(-1, 1)\n",
    "\n",
    "\n",
    "X_test = [[0, 1], [0, 0], [1, 0], [0, 1], [0, 0], [1, 0], [0, 0]]\n",
    "y_test = np.array([1, 0 ,1, 1, 0, 1, 0])\n",
    "\n",
    "\n",
    "bce = BinaryCrossEntropy()\n",
    "learning_rate = 0.01\n",
    "epochs = 20\n",
    "\n",
    "\n",
    "model = Sequential()\n",
    "model.add(Linear(2, 2))\n",
    "model.add(ReLU())\n",
    "model.add(Linear(2, 1))\n",
    "model.add(Sigmoid())\n",
    "model.forward(samples)\n",
    "\n",
    "\n",
    "\n",
    "for epoch in range(5000):\n",
    "    y_prediction = model.forward(X_train)\n",
    "    loss = bce.forward(y_prediction, y_train)\n",
    "    \n",
    "    gradients = bce.backward()\n",
    "    grad = model.backward(gradients)\n",
    "\n",
    "    \n",
    "# Test the trained model\n",
    "y_predict_probab = model.forward(X_test)\n",
    "y_pred = (y_predict_probab > 0.5).astype(int).flatten()\n",
    "print(accuracy_score(y_pred, y_test))"
   ]
  }
 ],
 "metadata": {
  "kernelspec": {
   "display_name": "Python 3 (ipykernel)",
   "language": "python",
   "name": "python3"
  },
  "language_info": {
   "codemirror_mode": {
    "name": "ipython",
    "version": 3
   },
   "file_extension": ".py",
   "mimetype": "text/x-python",
   "name": "python",
   "nbconvert_exporter": "python",
   "pygments_lexer": "ipython3",
   "version": "3.11.4"
  }
 },
 "nbformat": 4,
 "nbformat_minor": 5
}
