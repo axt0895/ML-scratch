{
 "cells": [
  {
   "cell_type": "code",
   "execution_count": 1,
   "id": "28a2d58f-5def-477a-af8c-e879c71f6440",
   "metadata": {
    "tags": []
   },
   "outputs": [
    {
     "name": "stdout",
     "output_type": "stream",
     "text": [
      "Loading the gray-scale datasets\n",
      "/Users/anilthapa/DASC-5304-Machine-Learning/Project 2/cifar-10-batches-py/data_batch_1\n",
      "/Users/anilthapa/DASC-5304-Machine-Learning/Project 2/cifar-10-batches-py/data_batch_2\n",
      "/Users/anilthapa/DASC-5304-Machine-Learning/Project 2/cifar-10-batches-py/data_batch_3\n",
      "/Users/anilthapa/DASC-5304-Machine-Learning/Project 2/cifar-10-batches-py/data_batch_4\n",
      "/Users/anilthapa/DASC-5304-Machine-Learning/Project 2/cifar-10-batches-py/data_batch_5\n",
      "Done\n",
      "(50000, 3072)\n",
      "Fitting Linear Discriminant Analysis for RGB images\n",
      "Accuracy score: 0.3713\n"
     ]
    }
   ],
   "source": [
    "#imports\n",
    "\n",
    "import numpy as np\n",
    "import matplotlib.pyplot as plt\n",
    "from utils import load_and_prepare_data\n",
    "from models import LDAModel\n",
    "from sklearn.metrics import accuracy_score\n",
    "\n",
    "\n",
    "# RGB images \n",
    "\n",
    "\n",
    "#Loading the datasets\n",
    "print('Loading the gray-scale datasets')\n",
    "cifar_10_file_path = '/Users/anilthapa/DASC-5304-Machine-Learning/Project 2/cifar-10-batches-py'\n",
    "train_data, train_labels, test_data, test_labels = load_and_prepare_data(cifar_10_file_path)\n",
    "print('Done')\n",
    "\n",
    "\n",
    "#Reshaping the datasets\n",
    "train_data = train_data.reshape(len(train_data), -1)\n",
    "test_data = test_data.reshape(len(test_data), -1)\n",
    "\n",
    "#intialzing the model\n",
    "lda_rgb = LDAModel()\n",
    "print('Fitting Linear Discriminant Analysis for RGB images')\n",
    "\n",
    "#fitting the model\n",
    "lda_rgb.fit(train_data, train_labels)\n",
    "\n",
    "#making the prediction\n",
    "score = accuracy_score(test_labels, lda_rgb.predict(test_data))\n",
    "print(f'Accuracy score: {score}')"
   ]
  },
  {
   "cell_type": "code",
   "execution_count": 2,
   "id": "3635acb8",
   "metadata": {},
   "outputs": [
    {
     "name": "stdout",
     "output_type": "stream",
     "text": [
      "Loading the RGB datasets\n",
      "/Users/anilthapa/DASC-5304-Machine-Learning/Project 2/cifar-10-batches-py/data_batch_1\n",
      "/Users/anilthapa/DASC-5304-Machine-Learning/Project 2/cifar-10-batches-py/data_batch_2\n",
      "/Users/anilthapa/DASC-5304-Machine-Learning/Project 2/cifar-10-batches-py/data_batch_3\n",
      "/Users/anilthapa/DASC-5304-Machine-Learning/Project 2/cifar-10-batches-py/data_batch_4\n",
      "/Users/anilthapa/DASC-5304-Machine-Learning/Project 2/cifar-10-batches-py/data_batch_5\n",
      "Done\n",
      "Fitting Linear Discriminant Analysis for Gray-scale images\n",
      "Accuracy score: 0.2739\n"
     ]
    }
   ],
   "source": [
    "# Gray-scale images\n",
    "\n",
    "print('Loading the RGB datasets')\n",
    "cifar_10_file_path = '/Users/anilthapa/DASC-5304-Machine-Learning/Project 2/cifar-10-batches-py'\n",
    "train_data, train_labels, test_data, test_labels = load_and_prepare_data(cifar_10_file_path, True)\n",
    "print('Done')\n",
    "\n",
    "# Reshaping the datasets into one dimensional vector\n",
    "train_data = train_data.reshape(len(train_data), -1)\n",
    "test_data = test_data.reshape(len(test_data), -1)\n",
    "\n",
    "#initializing the model with RGB datasets\n",
    "lda = LDAModel()\n",
    "\n",
    "# Fitting the model\n",
    "lda.fit(train_data, train_labels)\n",
    "print('Fitting Linear Discriminant Analysis for Gray-scale images')\n",
    "\n",
    "# Making the prediction\n",
    "score = accuracy_score(test_labels, lda.predict(test_data))\n",
    "print(f'Accuracy score: {score}')"
   ]
  },
  {
   "cell_type": "code",
   "execution_count": null,
   "id": "b1fe2f1d",
   "metadata": {},
   "outputs": [],
   "source": []
  }
 ],
 "metadata": {
  "kernelspec": {
   "display_name": "Python 3 (ipykernel)",
   "language": "python",
   "name": "python3"
  },
  "language_info": {
   "codemirror_mode": {
    "name": "ipython",
    "version": 3
   },
   "file_extension": ".py",
   "mimetype": "text/x-python",
   "name": "python",
   "nbconvert_exporter": "python",
   "pygments_lexer": "ipython3",
   "version": "3.11.4"
  }
 },
 "nbformat": 4,
 "nbformat_minor": 5
}
