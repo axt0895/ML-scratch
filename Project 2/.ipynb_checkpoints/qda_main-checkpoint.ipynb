{
 "cells": [
  {
   "cell_type": "code",
   "execution_count": 1,
   "id": "81801b0d-77ee-4f21-8ecf-6c59a7c0f3ed",
   "metadata": {
    "tags": []
   },
   "outputs": [
    {
     "name": "stdout",
     "output_type": "stream",
     "text": [
      "Loading the datasets\n",
      "/Users/anilthapa/DASC-5304-Machine-Learning/Project 2/cifar-10-batches-py/data_batch_1\n",
      "/Users/anilthapa/DASC-5304-Machine-Learning/Project 2/cifar-10-batches-py/data_batch_2\n",
      "/Users/anilthapa/DASC-5304-Machine-Learning/Project 2/cifar-10-batches-py/data_batch_3\n",
      "/Users/anilthapa/DASC-5304-Machine-Learning/Project 2/cifar-10-batches-py/data_batch_4\n",
      "/Users/anilthapa/DASC-5304-Machine-Learning/Project 2/cifar-10-batches-py/data_batch_5\n",
      "test_batch\n",
      "Done\n",
      "Fitting Quadratic Discriminant Analysis for RGB images\n",
      "QDA model fitted\n",
      "Accuracy score for RGB images: 0.3623\n"
     ]
    }
   ],
   "source": [
    "#imports\n",
    "import numpy as np\n",
    "import matplotlib.pyplot as plt\n",
    "from utils import load_and_prepare_data\n",
    "from models import QDAModel\n",
    "from sklearn.metrics import accuracy_score\n",
    "\n",
    "# RGB datasets\n",
    "\n",
    "#Load the datasets\n",
    "print('Loading the datasets')\n",
    "cifar_10_file_path = r'/Users/anilthapa/DASC-5304-Machine-Learning/Project 2/cifar-10-batches-py'\n",
    "train_data, train_labels, test_data, test_labels = load_and_prepare_data(cifar_10_file_path)\n",
    "print('Done')\n",
    "\n",
    "# Reshaping the datasets \n",
    "train_data = train_data.reshape(len(train_data), -1)\n",
    "test_data = test_data.reshape(len(test_data), -1)\n",
    "\n",
    "#initialize the model\n",
    "qda_rgb = QDAModel()\n",
    "print('Fitting Quadratic Discriminant Analysis for RGB images')\n",
    "\n",
    "#fitting the model\n",
    "qda_rgb.fit(train_data, train_labels)\n",
    "print('QDA model fitted')\n",
    "\n",
    "#Prediction on unseen data\n",
    "score = accuracy_score(test_labels, qda_rgb.predict(test_data))\n",
    "print(f'Accuracy score for RGB images: {score}')"
   ]
  },
  {
   "cell_type": "code",
   "execution_count": 2,
   "id": "80307eef-1541-4510-9ca0-e971d9cd15b0",
   "metadata": {},
   "outputs": [
    {
     "name": "stdout",
     "output_type": "stream",
     "text": [
      "Loading the datasets\n",
      "/Users/anilthapa/DASC-5304-Machine-Learning/Project 2/cifar-10-batches-py/data_batch_1\n",
      "/Users/anilthapa/DASC-5304-Machine-Learning/Project 2/cifar-10-batches-py/data_batch_2\n",
      "/Users/anilthapa/DASC-5304-Machine-Learning/Project 2/cifar-10-batches-py/data_batch_3\n",
      "/Users/anilthapa/DASC-5304-Machine-Learning/Project 2/cifar-10-batches-py/data_batch_4\n",
      "/Users/anilthapa/DASC-5304-Machine-Learning/Project 2/cifar-10-batches-py/data_batch_5\n",
      "test_batch\n",
      "Done\n",
      "Fitting Quadratic Discriminant Analysis for Gray-Scale images\n",
      "Accuracy score for Gray-scale images: 0.4428\n"
     ]
    }
   ],
   "source": [
    "# Gray Scale images\n",
    "\n",
    "print('Loading the datasets')\n",
    "cifar_10_file_path = '/Users/anilthapa/DASC-5304-Machine-Learning/Project 2/cifar-10-batches-py'\n",
    "train_data, train_labels, test_data, test_labels = load_and_prepare_data(cifar_10_file_path, True)\n",
    "print('Done')\n",
    "\n",
    "train_data = train_data.reshape(len(train_data), -1)\n",
    "test_data = test_data.reshape(len(test_data), -1)\n",
    "\n",
    "# Initialize the model\n",
    "qda = QDAModel()\n",
    "\n",
    "# Fitting the model\n",
    "qda.fit(train_data, train_labels)\n",
    "print('Fitting Quadratic Discriminant Analysis for Gray-Scale images')\n",
    "\n",
    "# Making the prediction\n",
    "score = accuracy_score(test_labels, qda.predict(test_data))\n",
    "print(f'Accuracy score for Gray-scale images: {score}')"
   ]
  },
  {
   "cell_type": "code",
   "execution_count": null,
   "id": "480fb595",
   "metadata": {},
   "outputs": [],
   "source": []
  }
 ],
 "metadata": {
  "kernelspec": {
   "display_name": "Python 3 (ipykernel)",
   "language": "python",
   "name": "python3"
  },
  "language_info": {
   "codemirror_mode": {
    "name": "ipython",
    "version": 3
   },
   "file_extension": ".py",
   "mimetype": "text/x-python",
   "name": "python",
   "nbconvert_exporter": "python",
   "pygments_lexer": "ipython3",
   "version": "3.11.4"
  }
 },
 "nbformat": 4,
 "nbformat_minor": 5
}
