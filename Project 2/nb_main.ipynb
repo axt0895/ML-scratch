{
 "cells": [
  {
   "cell_type": "code",
   "execution_count": 1,
   "id": "66680dc9-2fe9-49db-8536-b318abbf0129",
   "metadata": {
    "tags": []
   },
   "outputs": [
    {
     "name": "stdout",
     "output_type": "stream",
     "text": [
      "Loading the datasets\n",
      "/Users/anilthapa/DASC-5304-Machine-Learning/Project 2/cifar-10-batches-py/data_batch_1\n",
      "/Users/anilthapa/DASC-5304-Machine-Learning/Project 2/cifar-10-batches-py/data_batch_2\n",
      "/Users/anilthapa/DASC-5304-Machine-Learning/Project 2/cifar-10-batches-py/data_batch_3\n",
      "/Users/anilthapa/DASC-5304-Machine-Learning/Project 2/cifar-10-batches-py/data_batch_4\n",
      "/Users/anilthapa/DASC-5304-Machine-Learning/Project 2/cifar-10-batches-py/data_batch_5\n",
      "test_batch\n",
      "Done\n",
      "Fitting Gaussian NB for RGB images\n",
      "Accuracy score for RGB images: 0.2976\n"
     ]
    }
   ],
   "source": [
    "#imports\n",
    "\n",
    "import numpy as np\n",
    "import matplotlib.pyplot as plt\n",
    "from utils import load_and_prepare_data\n",
    "from models import GaussianNBModel\n",
    "from sklearn.metrics import accuracy_score\n",
    "\n",
    "# RGB images \n",
    "\n",
    "#Loading the datasets\n",
    "print('Loading the datasets')\n",
    "cifar_10_file_path = '/Users/anilthapa/DASC-5304-Machine-Learning/Project 2/cifar-10-batches-py'\n",
    "train_data, train_labels, test_data, test_labels = load_and_prepare_data(cifar_10_file_path)\n",
    "print('Done')\n",
    "\n",
    "\n",
    "#Reshaping the datasets into one dimensional vector\n",
    "#Reshaping the datasets into one dimensional vector\n",
    "train_data = train_data.reshape(len(train_data), -1)\n",
    "test_data = test_data.reshape(len(test_data), -1)\n",
    "\n",
    "#intialzing the model\n",
    "gaussianNB_rgb = GaussianNBModel()\n",
    "\n",
    "#fitting the model\n",
    "gaussianNB_rgb.fit(train_data, train_labels)\n",
    "print('Fitting Gaussian NB for RGB images')\n",
    "\n",
    "#making the prediction\n",
    "score = accuracy_score(test_labels, gaussianNB_rgb.predict(test_data))\n",
    "print(f'Accuracy score for RGB images: {score}')"
   ]
  },
  {
   "cell_type": "code",
   "execution_count": 2,
   "id": "010a9539-ecd4-47a9-a57f-b5489942e51e",
   "metadata": {},
   "outputs": [
    {
     "name": "stdout",
     "output_type": "stream",
     "text": [
      "Loading the datasets\n",
      "/Users/anilthapa/DASC-5304-Machine-Learning/Project 2/cifar-10-batches-py/data_batch_1\n",
      "/Users/anilthapa/DASC-5304-Machine-Learning/Project 2/cifar-10-batches-py/data_batch_2\n",
      "/Users/anilthapa/DASC-5304-Machine-Learning/Project 2/cifar-10-batches-py/data_batch_3\n",
      "/Users/anilthapa/DASC-5304-Machine-Learning/Project 2/cifar-10-batches-py/data_batch_4\n",
      "/Users/anilthapa/DASC-5304-Machine-Learning/Project 2/cifar-10-batches-py/data_batch_5\n",
      "test_batch\n",
      "Done\n",
      "Fitting Gaussian NB for Gray-scale images\n",
      "Accuracy score for Gray-scale images: 0.2662\n"
     ]
    }
   ],
   "source": [
    "# gray scale images\n",
    "\n",
    "#Loading the datasets\n",
    "print('Loading the datasets')\n",
    "cifar_10_file_path = '/Users/anilthapa/DASC-5304-Machine-Learning/Project 2/cifar-10-batches-py'\n",
    "train_data, train_labels, test_data, test_labels = load_and_prepare_data(cifar_10_file_path, True)\n",
    "print('Done')\n",
    "\n",
    "\n",
    "#Reshaping the datasets into one dimensional vector\n",
    "#Reshaping the datasets into one dimensional vector\n",
    "train_data = train_data.reshape(len(train_data), -1)\n",
    "test_data = test_data.reshape(len(test_data), -1)\n",
    "\n",
    "#intialzing the model\n",
    "gaussianNB = GaussianNBModel()\n",
    "print('Fitting Gaussian NB for Gray-scale images')\n",
    "\n",
    "#fitting the model\n",
    "gaussianNB.fit(train_data, train_labels)\n",
    "\n",
    "#making the prediction\n",
    "score = accuracy_score(test_labels, gaussianNB.predict(test_data))\n",
    "print(f'Accuracy score for Gray-scale images: {score}')"
   ]
  }
 ],
 "metadata": {
  "kernelspec": {
   "display_name": "Python 3 (ipykernel)",
   "language": "python",
   "name": "python3"
  },
  "language_info": {
   "codemirror_mode": {
    "name": "ipython",
    "version": 3
   },
   "file_extension": ".py",
   "mimetype": "text/x-python",
   "name": "python",
   "nbconvert_exporter": "python",
   "pygments_lexer": "ipython3",
   "version": "3.11.4"
  }
 },
 "nbformat": 4,
 "nbformat_minor": 5
}
